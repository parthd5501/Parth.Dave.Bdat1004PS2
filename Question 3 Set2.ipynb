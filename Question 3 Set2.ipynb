{
 "cells": [
  {
   "cell_type": "code",
   "execution_count": 5,
   "id": "d7e740d3",
   "metadata": {},
   "outputs": [
    {
     "name": "stdout",
     "output_type": "stream",
     "text": [
      "['doll', 'firetruck', 'kitten']\n",
      "I am a Kangaroo located at coordinates (0,0)\n",
      "['doll', 'firetruck', 'kitten']\n",
      "I am a Kangaroo located at coordinates (6,0)\n"
     ]
    }
   ],
   "source": [
    "class Marsupial:\n",
    "    def __init__(a):\n",
    "        a.pouch = []\n",
    "        \n",
    "    def put_in_pouch(a, item):\n",
    "        a.pouch.append(item)\n",
    "        \n",
    "    def pouch_contents(a):\n",
    "        return a.pouch\n",
    "\n",
    "\n",
    "class Kangaroo(Marsupial):\n",
    "    def __init__(a, x, y):\n",
    "        super().__init__()\n",
    "        a.x = x\n",
    "        a.y = y\n",
    "        \n",
    "    def jump(a, dx, dy):\n",
    "        a.x += dx\n",
    "        a.y += dy\n",
    "        \n",
    "    def __str__(a):\n",
    "        return f\"I am a Kangaroo located at coordinates ({a.x},{a.y})\"\n",
    "\n",
    "\n",
    "\n",
    "m = Marsupial()\n",
    "m.put_in_pouch('doll')\n",
    "m.put_in_pouch('firetruck')\n",
    "m.put_in_pouch('kitten')\n",
    "print(m.pouch_contents())  \n",
    "\n",
    "k = Kangaroo(0, 0)\n",
    "print(k)  \n",
    "k.put_in_pouch('doll')\n",
    "k.put_in_pouch('firetruck')\n",
    "k.put_in_pouch('kitten')\n",
    "print(k.pouch_contents())  \n",
    "k.jump(1, 0)\n",
    "k.jump(2, 0)\n",
    "k.jump(3, 0)\n",
    "print(k)  \n"
   ]
  },
  {
   "cell_type": "code",
   "execution_count": null,
   "id": "4dc6954a",
   "metadata": {},
   "outputs": [],
   "source": []
  }
 ],
 "metadata": {
  "kernelspec": {
   "display_name": "Python 3 (ipykernel)",
   "language": "python",
   "name": "python3"
  },
  "language_info": {
   "codemirror_mode": {
    "name": "ipython",
    "version": 3
   },
   "file_extension": ".py",
   "mimetype": "text/x-python",
   "name": "python",
   "nbconvert_exporter": "python",
   "pygments_lexer": "ipython3",
   "version": "3.11.3"
  }
 },
 "nbformat": 4,
 "nbformat_minor": 5
}
