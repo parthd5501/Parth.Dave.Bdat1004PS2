{
 "cells": [
  {
   "cell_type": "code",
   "execution_count": 2,
   "id": "ed3ef600",
   "metadata": {},
   "outputs": [
    {
     "name": "stdout",
     "output_type": "stream",
     "text": [
      "123\n",
      "File idterm.py not found.\n"
     ]
    }
   ],
   "source": [
    "def file_length(file_name):\n",
    "    try:\n",
    "        with open(file_name) as file:\n",
    "            contents = file.read()\n",
    "            print(len(contents))\n",
    "    except FileNotFoundError:\n",
    "        print(f\"File {file_name} not found.\")\n",
    "    except:\n",
    "        print(\"An error occurred while reading the file.\")\n",
    "\n",
    "file_length('midterm.py')\n",
    "file_length('idterm.py')"
   ]
  },
  {
   "cell_type": "code",
   "execution_count": null,
   "id": "e29dd9c6",
   "metadata": {},
   "outputs": [],
   "source": []
  }
 ],
 "metadata": {
  "kernelspec": {
   "display_name": "Python 3 (ipykernel)",
   "language": "python",
   "name": "python3"
  },
  "language_info": {
   "codemirror_mode": {
    "name": "ipython",
    "version": 3
   },
   "file_extension": ".py",
   "mimetype": "text/x-python",
   "name": "python",
   "nbconvert_exporter": "python",
   "pygments_lexer": "ipython3",
   "version": "3.11.3"
  }
 },
 "nbformat": 4,
 "nbformat_minor": 5
}
