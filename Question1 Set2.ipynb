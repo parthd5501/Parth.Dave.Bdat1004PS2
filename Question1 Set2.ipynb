{
 "cells": [
  {
   "cell_type": "code",
   "execution_count": null,
   "id": "0e16e75a",
   "metadata": {},
   "outputs": [],
   "source": [
    "#a = 0\n",
    "#def b():\n",
    "#global a\n",
    "#a = c(a)\n",
    "#def c(a):\n",
    "#return a + 2\n",
    "#After importing the module into the interpreter, you execute:\n",
    "#>>> b()\n",
    "#>>> b()\n",
    "#>>> b()\n",
    "#>>> a\n",
    "#?\n",
    "\n",
    "\n",
    "The value displayed when the last expression a is evaluated will be 6 \n",
    "\n",
    "1.\tAfter importing the module into the interpreter, the global variable a is initialized to 0.\n",
    "2.\tWhen the function b() is called for the first time (b()), it assigns the value of a after applying the function c(a).\n",
    "3.\tInside c(a), the value of a (which is currently 0) is added by 2, resulting in 2.\n",
    "4.\tThe value 2 is then assigned back to the global variable a, effectively updating its value.\n",
    "5.\tThe second call to b() (b()) follows the same process as described above.\n",
    "6.\tNow, the value of a is 2, and when c(a) is executed, a + 2 results in 4. This value is assigned back to a, updating it to 4.\n",
    "7.\tFinally, the third call to b() (b()) is made. The current value of a is 4, and c(a) adds 2 to it, resulting in 6.\n",
    "8.\tWhen the last expression a is evaluated (a), it displays the current value of a, which is 6.\n"
   ]
  }
 ],
 "metadata": {
  "kernelspec": {
   "display_name": "Python 3 (ipykernel)",
   "language": "python",
   "name": "python3"
  },
  "language_info": {
   "codemirror_mode": {
    "name": "ipython",
    "version": 3
   },
   "file_extension": ".py",
   "mimetype": "text/x-python",
   "name": "python",
   "nbconvert_exporter": "python",
   "pygments_lexer": "ipython3",
   "version": "3.11.3"
  }
 },
 "nbformat": 4,
 "nbformat_minor": 5
}
