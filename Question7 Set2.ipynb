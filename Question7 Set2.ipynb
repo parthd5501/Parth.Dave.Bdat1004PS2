{
 "cells": [
  {
   "cell_type": "code",
   "execution_count": 7,
   "id": "6695c908",
   "metadata": {},
   "outputs": [
    {
     "name": "stdout",
     "output_type": "stream",
     "text": [
      "Enter the starting URL: http://reed.cs.depaul.edu/lperkovic/csc242/test1.html\n",
      "Enter the depth: 4\n",
      "http://reed.cs.depaul.edu/lperkovic/csc242/test1.html\n",
      "Failed to retrieve page: 404\n"
     ]
    }
   ],
   "source": [
    "import requests\n",
    "\n",
    "def webdir(url, depth, indent):\n",
    "    if depth < 0:\n",
    "        return\n",
    "\n",
    "    # Print the URL with appropriate indentation\n",
    "    print(' ' * indent + url)\n",
    "\n",
    "    try:\n",
    "        response = requests.get(url)\n",
    "        if response.status_code == 200:\n",
    "            content = response.text\n",
    "\n",
    "            # Find all the links in the page\n",
    "            links = extract_links(content)\n",
    "\n",
    "            # Recursively visit each link\n",
    "            for link in links:\n",
    "                webdir(link, depth - 1, indent + 4)\n",
    "        else:\n",
    "            print(' ' * indent + 'Failed to retrieve page:', response.status_code)\n",
    "    except requests.exceptions.RequestException as e:\n",
    "        print(' ' * indent + 'An error occurred:', str(e))\n",
    "\n",
    "def extract_links(content):\n",
    "    # You need to implement this function to extract the links from the HTML content\n",
    "    # There are various ways to extract links from HTML, such as using regular expressions or an HTML parser library\n",
    "    # Choose a method that suits your needs and implement it here\n",
    "    # Return a list of URLs\n",
    "\n",
    "    # Example implementation using BeautifulSoup HTML parser library:\n",
    "    from bs4 import BeautifulSoup\n",
    "    soup = BeautifulSoup(content, 'html.parser')\n",
    "    links = [a['href'] for a in soup.find_all('a', href=True)]\n",
    "    return links\n",
    "\n",
    "# Example usage:\n",
    "url = input(\"Enter the starting URL: \")\n",
    "depth = int(input(\"Enter the depth: \"))\n",
    "webdir(url, depth, 0)\n"
   ]
  },
  {
   "cell_type": "code",
   "execution_count": null,
   "id": "7b62e50a",
   "metadata": {},
   "outputs": [],
   "source": []
  }
 ],
 "metadata": {
  "kernelspec": {
   "display_name": "Python 3 (ipykernel)",
   "language": "python",
   "name": "python3"
  },
  "language_info": {
   "codemirror_mode": {
    "name": "ipython",
    "version": 3
   },
   "file_extension": ".py",
   "mimetype": "text/x-python",
   "name": "python",
   "nbconvert_exporter": "python",
   "pygments_lexer": "ipython3",
   "version": "3.11.3"
  }
 },
 "nbformat": 4,
 "nbformat_minor": 5
}
